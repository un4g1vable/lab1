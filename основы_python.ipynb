{
 "cells": [
  {
   "cell_type": "markdown",
   "metadata": {
    "id": "M-DGa20PaHnu"
   },
   "source": [
    "# Задача 1\n",
    "Написать функцию на вход которой подается строка, состоящая из латинских букв.\n",
    "Функция должна вернуть количество гласных букв (a, e, i, o, u) в этой строке. Написать тесты для кода"
   ]
  },
  {
   "cell_type": "code",
   "execution_count": 1,
   "metadata": {
    "id": "XvX8X_JJ6PCb"
   },
   "outputs": [
    {
     "name": "stdout",
     "output_type": "stream",
     "text": [
      "Все тесты пройдены\n"
     ]
    }
   ],
   "source": [
    "def count_vowels(input):\n",
    "    vowels = {'a', 'e', 'i', 'o', 'u'}\n",
    "    count = 0\n",
    "    for char in input.lower():\n",
    "        if char in vowels:\n",
    "            count += 1\n",
    "    return count\n",
    "\n",
    "def test():\n",
    "    assert count_vowels(\"\") == 0\n",
    "    assert count_vowels(\"xyz\") == 0\n",
    "    assert count_vowels(\"aeiou\") == 5\n",
    "    assert count_vowels(\"AEIOU\") == 5\n",
    "    assert count_vowels(\"URFU\") == 2\n",
    "    assert count_vowels(\"h3ll0 w0rld!\") == 0\n",
    "    \n",
    "    print(\"Все тесты пройдены\")\n",
    "\n",
    "# Запуск тестов\n",
    "test()"
   ]
  },
  {
   "cell_type": "markdown",
   "metadata": {
    "id": "t2ClV_Y0bbr6"
   },
   "source": [
    "# Задача 2\n",
    "Написать функцию на вход, которой подается строка. Функция должна вернуть true, если\n",
    "каждый символ в строке встречается только 1 раз, иначе должна вернуть false. Написать тесты для кода"
   ]
  },
  {
   "cell_type": "code",
   "execution_count": 11,
   "metadata": {
    "id": "FppbECao6VIz"
   },
   "outputs": [
    {
     "name": "stdout",
     "output_type": "stream",
     "text": [
      "Все тесты пройдены\n"
     ]
    }
   ],
   "source": [
    "def unique_chars(input):\n",
    "    return len(input) == len(set(input))\n",
    "\n",
    "def test():\n",
    "    assert unique_chars(\"abcde\") == True\n",
    "    assert unique_chars(\"hello world\") == False\n",
    "    assert unique_chars(\"\") == True\n",
    "    assert unique_chars(\"tree\") == False\n",
    "    assert unique_chars(\"green\") == False\n",
    "    assert unique_chars(\"123\") == True\n",
    "    print(\"Все тесты пройдены\")\n",
    "\n",
    "test()"
   ]
  },
  {
   "cell_type": "markdown",
   "metadata": {
    "id": "udRiIK1cdt6E"
   },
   "source": [
    "# Задача 3\n",
    "Написать функцию, которая принимает положительное число и возвращает количество\n",
    "бит равных 1 в этом числе. Написать тесты для кода"
   ]
  },
  {
   "cell_type": "code",
   "execution_count": 17,
   "metadata": {
    "id": "6tkfDJRz6dp_"
   },
   "outputs": [
    {
     "name": "stdout",
     "output_type": "stream",
     "text": [
      "Все тесты пройдены\n"
     ]
    }
   ],
   "source": [
    "def count_bits(n):\n",
    "    return bin(n).count('1')\n",
    "\n",
    "def test():\n",
    "    assert count_bits(10) == 2\n",
    "    assert count_bits(228) == 4\n",
    "    assert count_bits(1337) == 6\n",
    "    assert count_bits(2025) == 8\n",
    "    assert count_bits(20) == 2\n",
    "\n",
    "    print(\"Все тесты пройдены\")\n",
    "\n",
    "test()\n"
   ]
  },
  {
   "cell_type": "markdown",
   "metadata": {
    "id": "26dDUz-Ae17N"
   },
   "source": [
    "# Задача 4\n",
    "Написать функцию, которая принимает положительное число. Функция должна вернуть то,\n",
    "сколько раз необходимо перемножать цифры числа или результат перемножения, чтобы\n",
    "получилось число состоящее из одной цифры.\n",
    "Например, для входного числа:\n",
    "· 39 функция должна вернуть 3, так как 3*9=27 => 2*7=14 => 1*4=4\n",
    "· 4 функция должна вернуть 0, так как число уже состоит из одной цифры\n",
    "· 999 функция должна вернуть 4, так как 9*9*9=729 => 7*2*9=126 => 1*2*6=12 =>\n",
    "1*2=2. Написать тесты для кода"
   ]
  },
  {
   "cell_type": "code",
   "execution_count": null,
   "metadata": {
    "id": "BH1A_Mgi6i4G"
   },
   "outputs": [
    {
     "name": "stdout",
     "output_type": "stream",
     "text": [
      "Все тесты пройдены\n"
     ]
    }
   ],
   "source": [
    "def magic(n):\n",
    "    if n < 10:\n",
    "        return 0\n",
    "    count = 0\n",
    "    while n >= 10:\n",
    "        product = 1\n",
    "        for digit in str(n):\n",
    "            product *= int(digit)\n",
    "        n = product\n",
    "        count += 1\n",
    "    return count\n",
    "\n",
    "def test():\n",
    "    assert magic(39) == 3\n",
    "    assert magic(4) == 0\n",
    "    assert magic(999) == 4\n",
    "    assert magic(10) == 1\n",
    "    assert magic(25) == 2\n",
    "    assert magic(1234) == 2\n",
    "    print(\"Все тесты пройдены\")\n",
    "\n",
    "test()"
   ]
  },
  {
   "cell_type": "markdown",
   "metadata": {
    "id": "0nS-kIa8g8vd"
   },
   "source": [
    "# Задача 5\n",
    "Написать функцию, которая принимает два целочисленных вектора одинаковой длины и\n",
    "возвращает среднеквадратическое отклонение двух векторов. Написать тесты для кода"
   ]
  },
  {
   "cell_type": "code",
   "execution_count": null,
   "metadata": {
    "id": "8iphx4LM6xbx"
   },
   "outputs": [
    {
     "name": "stdout",
     "output_type": "stream",
     "text": [
      "Все тесты пройдены\n"
     ]
    }
   ],
   "source": [
    "def mse(pred, true):\n",
    "    if len(pred) != len(true):\n",
    "        raise ValueError(\"Векторы должны быть одинаковой длины\")\n",
    "    squared_errors = [(p - t) ** 2 for p, t in zip(pred, true)]\n",
    "    return sum(squared_errors) / len(squared_errors)\n",
    "\n",
    "def test():\n",
    "    assert mse([1, 2, 3], [1, 2, 3]) == 0.0\n",
    "    assert mse([1, 2, 3], [2, 3, 4]) == (1+1+1) / 3\n",
    "    assert mse([10, 20, 30], [5, 10, 15]) == (25+100+225) / 3\n",
    "    try:\n",
    "        mse([1, 2], [1, 2, 3])  # Вызов с некорректными данными\n",
    "        assert False, \"Функция не вызвала ValueError для векторов разной длины\"\n",
    "    except ValueError:\n",
    "        pass\n",
    "    print(\"Все тесты пройдены\")\n",
    "\n",
    "test()"
   ]
  },
  {
   "cell_type": "markdown",
   "metadata": {
    "id": "vpIPKL439zkw"
   },
   "source": [
    "# Задача 6\n",
    "Написать функцию, принимающая целое положительное число. Функция должна вернуть\n",
    "строку вида “(n1**p1)(n2**p2)…(nk**pk)” представляющая разложение числа на простые\n",
    "множители (если pi == 1, то выводить только ni).\n",
    "Например, для числа 86240 функция должна вернуть “(2**5)(5)(7**2)(11)”. Написать тесты для кода"
   ]
  },
  {
   "cell_type": "code",
   "execution_count": 34,
   "metadata": {
    "id": "pFebmcZk94Jw"
   },
   "outputs": [
    {
     "name": "stdout",
     "output_type": "stream",
     "text": [
      "Все тесты пройдены\n"
     ]
    }
   ],
   "source": [
    "def primfacs(n):\n",
    "    i = 2\n",
    "    primfac = []\n",
    "\n",
    "    while i * i <= n:\n",
    "        while n % i == 0:\n",
    "            primfac.append(i)\n",
    "            n = n // i\n",
    "        i = i + 1\n",
    "    if n > 1:\n",
    "        primfac.append(n)\n",
    "\n",
    "    factors = {}\n",
    "    for prime in primfac:\n",
    "        factors[prime] = factors.get(prime, 0) + 1\n",
    "\n",
    "    result = []\n",
    "    for prime in sorted(factors):\n",
    "        power = factors[prime]\n",
    "        if power == 1:\n",
    "            result.append(f\"({prime})\")\n",
    "        else:\n",
    "            result.append(f\"({prime}**{power})\")\n",
    "    return \"\".join(result)\n",
    "\n",
    "def test():\n",
    "    assert primfacs(86240) == \"(2**5)(5)(7**2)(11)\"\n",
    "    assert primfacs(2) == \"(2)\"\n",
    "    assert primfacs(13) == \"(13)\"\n",
    "    assert primfacs(121) == \"(11**2)\"\n",
    "    assert primfacs(1) == \"\"\n",
    "\n",
    "    print(\"Все тесты пройдены\")\n",
    "\n",
    "test()"
   ]
  },
  {
   "cell_type": "markdown",
   "metadata": {
    "id": "ps2s0BudX7A2"
   },
   "source": [
    "# Задача 7\n",
    "Написать функцию, принимающая целое число n, задающее количество кубиков. Функция\n",
    "должна определить, можно ли из данного кол-ва кубиков построить пирамиду, то есть\n",
    "можно ли представить число n как 1^2+2^2+3^2+…+k^2. Если можно, то функция должна\n",
    "вернуть k, иначе строку “It is impossible”. Написать тесты для кода"
   ]
  },
  {
   "cell_type": "code",
   "execution_count": 2,
   "metadata": {
    "id": "3YPjEXxhX_YT"
   },
   "outputs": [
    {
     "name": "stdout",
     "output_type": "stream",
     "text": [
      "Все тесты пройдены\n"
     ]
    }
   ],
   "source": [
    "def pyramid(number):\n",
    "    total = 0\n",
    "    k = 0\n",
    "    while total < number:\n",
    "        k += 1\n",
    "        total += k ** 2\n",
    "        if total == number:\n",
    "            return k\n",
    "    return \"It is impossible\"\n",
    "\n",
    "def test():\n",
    "    assert pyramid(1) == 1          # 1² = 1\n",
    "    assert pyramid(14) == 3         # 1 + 4 + 9 = 14\n",
    "    assert pyramid(55) == 5         # 1 + 4 + 9 + 16 + 25 = 55\n",
    "    assert pyramid(1000) == \"It is impossible\"\n",
    "    assert pyramid(123) == \"It is impossible\"\n",
    "    \n",
    "    print(\"Все тесты пройдены\")\n",
    "\n",
    "test()\n"
   ]
  },
  {
   "cell_type": "markdown",
   "metadata": {
    "id": "KeKgmIdAQMEJ"
   },
   "source": [
    "# Задача 8\n",
    "Функция принимает на вход положительное число и определяет является ли оно сбалансированным, т.е. сумма цифр до средних равна сумме цифр после. Средними в случае нечетного числа цифр считать одну цифру, в случае четного - две средних. Написать тесты для кода"
   ]
  },
  {
   "cell_type": "code",
   "execution_count": 37,
   "metadata": {
    "id": "gMAAqtqlQrZt"
   },
   "outputs": [
    {
     "name": "stdout",
     "output_type": "stream",
     "text": [
      "Все тесты пройдены\n"
     ]
    }
   ],
   "source": [
    "def is_balanced(number):\n",
    "\n",
    "    digits = [int(d) for d in str(number)]\n",
    "    length = len(digits)\n",
    "    \n",
    "    if length <= 2:\n",
    "        return True  # Числа длиной ≤2 всегда сбалансированы\n",
    "    \n",
    "    if length % 2 == 1:\n",
    "        mid = length // 2\n",
    "        left = digits[:mid]\n",
    "        right = digits[mid+1:]\n",
    "    else:\n",
    "        mid = length // 2\n",
    "        left = digits[:mid-1]\n",
    "        right = digits[mid+1:]\n",
    "    \n",
    "    return sum(left) == sum(right)\n",
    "\n",
    "# Тесты для функции is_balanced\n",
    "def test():\n",
    "    assert is_balanced(12321) == True\n",
    "    assert is_balanced(1230) == False\n",
    "    assert is_balanced(123803) == True\n",
    "    assert is_balanced(123454321) == True\n",
    "    assert is_balanced(123456) == False\n",
    "    assert is_balanced(1001) == True\n",
    "\n",
    "    print(\"Все тесты пройдены\")\n",
    "\n",
    "# Запуск тестов\n",
    "test()"
   ]
  }
 ],
 "metadata": {
  "colab": {
   "provenance": []
  },
  "kernelspec": {
   "display_name": "Python 3",
   "name": "python3"
  },
  "language_info": {
   "codemirror_mode": {
    "name": "ipython",
    "version": 3
   },
   "file_extension": ".py",
   "mimetype": "text/x-python",
   "name": "python",
   "nbconvert_exporter": "python",
   "pygments_lexer": "ipython3",
   "version": "3.9.6"
  }
 },
 "nbformat": 4,
 "nbformat_minor": 0
}
